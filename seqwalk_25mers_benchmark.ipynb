{
 "cells": [
  {
   "cell_type": "code",
   "execution_count": 1,
   "id": "6f53068f",
   "metadata": {},
   "outputs": [
    {
     "name": "stderr",
     "output_type": "stream",
     "text": [
      "/home/gokul/.local/lib/python3.10/site-packages/matplotlib/projections/__init__.py:63: UserWarning: Unable to import Axes3D. This may be due to multiple versions of Matplotlib being installed (e.g. as a system package and as a pip package). As a result, the 3D projection is not available.\n",
      "  warnings.warn(\"Unable to import Axes3D. This may be due to multiple versions of \"\n"
     ]
    }
   ],
   "source": [
    "from seqwalk import design\n",
    "import resource\n",
    "from time import time\n",
    "import pandas as pd\n",
    "import matplotlib.pyplot as plt\n",
    "%load_ext memory_profiler"
   ]
  },
  {
   "cell_type": "markdown",
   "id": "2266e0d8",
   "metadata": {},
   "source": [
    "because of the way cell magics works, the easiest way for me to do this memory profiling experiment is to copy the cell over and over again. very inelegant, but gets the job done."
   ]
  },
  {
   "cell_type": "code",
   "execution_count": 2,
   "id": "99bf42f9",
   "metadata": {},
   "outputs": [],
   "source": [
    "%%capture cap \n",
    "ts = []\n",
    "mems = []\n",
    "sizes = []\n",
    "\n",
    "t0 = time()\n",
    "%memit library = design.max_size(25, 12, alphabet=\"ACGT\", prevented_patterns=[])\n",
    "t1 = time()\n",
    "\n",
    "print(\"Time (seconds): %f\" %(t1-t0))\n",
    "print('Library size: %d' %(len(library)))"
   ]
  },
  {
   "cell_type": "code",
   "execution_count": 3,
   "id": "8f4dfacb",
   "metadata": {},
   "outputs": [],
   "source": [
    "inds = [3, 4, 1]\n",
    "\n",
    "t, size, mem = [cap.stdout.split(':')[x].strip().replace(' ', '\\n').split('\\n')[0] \n",
    "                for x in inds]\n",
    "\n",
    "ts.append(t)\n",
    "sizes.append(size)\n",
    "mems.append(mem)"
   ]
  },
  {
   "cell_type": "code",
   "execution_count": 4,
   "id": "cf7cab9d",
   "metadata": {},
   "outputs": [],
   "source": [
    "pd.DataFrame({\n",
    "    'Time (s)' : [float(t) for t in ts],\n",
    "    'Library size' : [int(s) for s in sizes],\n",
    "    'Memory usage (GB)' : [float(x)/1000 for x in mems],\n",
    "}).to_csv('seqwalk_25mer_benchmark.csv')"
   ]
  },
  {
   "cell_type": "code",
   "execution_count": null,
   "id": "0c36648f",
   "metadata": {},
   "outputs": [],
   "source": []
  }
 ],
 "metadata": {
  "kernelspec": {
   "display_name": "Python 3 (ipykernel)",
   "language": "python",
   "name": "python3"
  },
  "language_info": {
   "codemirror_mode": {
    "name": "ipython",
    "version": 3
   },
   "file_extension": ".py",
   "mimetype": "text/x-python",
   "name": "python",
   "nbconvert_exporter": "python",
   "pygments_lexer": "ipython3",
   "version": "3.10.12"
  }
 },
 "nbformat": 4,
 "nbformat_minor": 5
}
