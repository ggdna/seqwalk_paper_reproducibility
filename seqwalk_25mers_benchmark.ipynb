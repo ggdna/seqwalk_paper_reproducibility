{
 "cells": [
  {
   "cell_type": "code",
   "execution_count": 1,
   "id": "6f53068f",
   "metadata": {},
   "outputs": [],
   "source": [
    "from seqwalk import design\n",
    "import resource\n",
    "from time import time\n",
    "%load_ext memory_profiler"
   ]
  },
  {
   "cell_type": "code",
   "execution_count": 3,
   "id": "8f4dfacb",
   "metadata": {},
   "outputs": [
    {
     "name": "stdout",
     "output_type": "stream",
     "text": [
      "Time (seconds): 15.746278\n",
      "Library size: 1198372\n",
      "peak memory: 438.53 MiB, increment: 275.75 MiB\n"
     ]
    },
    {
     "data": {
      "text/plain": [
       "<MemitResult : peak memory: 438.53 MiB, increment: 275.75 MiB>"
      ]
     },
     "execution_count": 3,
     "metadata": {},
     "output_type": "execute_result"
    }
   ],
   "source": [
    "%%memit -o\n",
    "t0 = time()\n",
    "library = design.max_size(25, 12, alphabet=\"ACGT\", prevented_patterns=[])\n",
    "t1 = time()\n",
    "\n",
    "print(\"Time (seconds): %f\" %(t1-t0))\n",
    "print('Library size: %d' %(len(library)))"
   ]
  },
  {
   "cell_type": "code",
   "execution_count": 10,
   "id": "c0d99459",
   "metadata": {},
   "outputs": [
    {
     "data": {
      "text/plain": [
       "<MemitResult : peak memory: 438.53 MiB, increment: 275.75 MiB>"
      ]
     },
     "execution_count": 10,
     "metadata": {},
     "output_type": "execute_result"
    }
   ],
   "source": [
    "x = _\n",
    "x"
   ]
  },
  {
   "cell_type": "code",
   "execution_count": null,
   "id": "2e7bc7f2",
   "metadata": {},
   "outputs": [],
   "source": []
  }
 ],
 "metadata": {
  "kernelspec": {
   "display_name": "Python 3 (ipykernel)",
   "language": "python",
   "name": "python3"
  },
  "language_info": {
   "codemirror_mode": {
    "name": "ipython",
    "version": 3
   },
   "file_extension": ".py",
   "mimetype": "text/x-python",
   "name": "python",
   "nbconvert_exporter": "python",
   "pygments_lexer": "ipython3",
   "version": "3.10.12"
  }
 },
 "nbformat": 4,
 "nbformat_minor": 5
}
