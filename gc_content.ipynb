{
 "cells": [
  {
   "cell_type": "markdown",
   "metadata": {},
   "source": [
    "# GC content distribution in seqwalk libraries\n",
    "\n",
    "Running all cells of `library_generation.ipynb` will generate files with sequences that can be analyzed by running this notebook. No adjustments of filenames are necessary. "
   ]
  },
  {
   "cell_type": "code",
   "execution_count": 1,
   "metadata": {},
   "outputs": [],
   "source": [
    "# import nupack as nu\n",
    "import numpy as np\n",
    "import os\n",
    "import matplotlib.pyplot as plt\n",
    "import seaborn as sns\n",
    "import pandas as pd\n",
    "from matplotlib import rcParams\n",
    "\n",
    "rcParams['figure.dpi'] = 300"
   ]
  },
  {
   "cell_type": "code",
   "execution_count": 2,
   "metadata": {},
   "outputs": [],
   "source": [
    "def gc(seq):\n",
    "    return sum( 1 for s in seq if s in [\"G\", \"C\"])/len(seq)"
   ]
  },
  {
   "cell_type": "code",
   "execution_count": 3,
   "metadata": {},
   "outputs": [],
   "source": [
    "d = {\n",
    "    \"Alphabet\" : [],\n",
    "    \"k\" : [],\n",
    "    \"L\" : [],\n",
    "    \"GC content\" : []\n",
    "}\n",
    "\n",
    "for SSM_k in [6, 8, 10]:\n",
    "    for L in [10, 15, 25]:\n",
    "        for a in [3, 4]:\n",
    "            filename = \"SSM_%d-L_%d-a_%d\" % (SSM_k, L, a)\n",
    "            f = open(filename, \"r\")\n",
    "            seqs = [s.strip() for s in f.readlines()]\n",
    "            f.close\n",
    "            for seq in seqs:\n",
    "                d[\"Alphabet\"].append(a)\n",
    "                d[\"k\"].append(SSM_k)\n",
    "                d[\"L\"].append(L)\n",
    "                d[\"GC content\"].append(gc(seq))\n",
    "\n",
    "data = pd.DataFrame(d)\n",
    "data.to_csv(\"gc_contents.csv\")"
   ]
  },
  {
   "cell_type": "code",
   "execution_count": 4,
   "metadata": {},
   "outputs": [
    {
     "data": {
      "image/png": "[encoded data removed]",
      "text/plain": [
       "<Figure size 715.685x216 with 3 Axes>"
      ]
     },
     "metadata": {
      "needs_background": "light"
     },
     "output_type": "display_data"
    }
   ],
   "source": [
    "sns.set(font_scale=1.2, style='whitegrid')\n",
    "rcParams['axes.edgecolor'] = 'black'\n",
    "g = sns.catplot(data = data, y = \"GC content\", x=\"L\", col=\"k\", hue=\"Alphabet\", \n",
    "                kind=\"box\", height=3, aspect=1,\n",
    "               palette=['#40ada6', '#c4bae2'])\n",
    "\n",
    "plt.savefig(\"EF1_sn4.pdf\", bbox_inches = 'tight')"
   ]
  },
  {
   "cell_type": "code",
   "execution_count": 5,
   "metadata": {},
   "outputs": [
    {
     "name": "stdout",
     "output_type": "stream",
     "text": [
      "Variance of 3 letter: 0.022277\n",
      "Variance of 4 letter: 0.024896\n"
     ]
    }
   ],
   "source": [
    "var = data.groupby(\"Alphabet\").var(ddof=1)[\"GC content\"]\n",
    "\n",
    "print(\"Variance of 3 letter: %f\" % var[3])\n",
    "print(\"Variance of 4 letter: %f\" % var[4])"
   ]
  },
  {
   "cell_type": "code",
   "execution_count": null,
   "metadata": {},
   "outputs": [],
   "source": []
  }
 ],
 "metadata": {
  "kernelspec": {
   "display_name": "Python 3 (ipykernel)",
   "language": "python",
   "name": "python3"
  },
  "language_info": {
   "codemirror_mode": {
    "name": "ipython",
    "version": 3
   },
   "file_extension": ".py",
   "mimetype": "text/x-python",
   "name": "python",
   "nbconvert_exporter": "python",
   "pygments_lexer": "ipython3",
   "version": "3.9.5"
  }
 },
 "nbformat": 4,
 "nbformat_minor": 4
}
