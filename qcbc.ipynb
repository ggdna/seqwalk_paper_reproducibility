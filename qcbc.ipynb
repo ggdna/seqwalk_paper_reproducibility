{
 "cells": [
  {
   "cell_type": "code",
   "execution_count": 1,
   "metadata": {},
   "outputs": [],
   "source": [
    "import qcbc\n",
    "from seqwalk import design\n",
    "import pandas as pd\n",
    "import numpy as np\n",
    "import matplotlib.pyplot as plt\n",
    "import seaborn as sns"
   ]
  },
  {
   "cell_type": "markdown",
   "metadata": {},
   "source": [
    "First, we make a seqwalk library that is analogous to the multi-seq library."
   ]
  },
  {
   "cell_type": "code",
   "execution_count": 2,
   "metadata": {},
   "outputs": [
    {
     "name": "stdout",
     "output_type": "stream",
     "text": [
      "Number of sequences: 10\n",
      "SSM k value: 3\n"
     ]
    }
   ],
   "source": [
    "sw_lib = design.max_orthogonality(9, 8, alphabet=\"ACGT\", )#GClims=(7,10))\n",
    "del sw_lib[7]\n",
    "d = {\"seq\": sw_lib,\n",
    "    \"name\" : [\"seq_%d\" % i for i in range(len(sw_lib))]}\n",
    "\n",
    "df = pd.DataFrame(d)"
   ]
  },
  {
   "cell_type": "code",
   "execution_count": 3,
   "metadata": {},
   "outputs": [],
   "source": [
    "df.to_csv(\"qcbc/sw_multi_analog.txt\", index=False, header=None, sep='\\t')"
   ]
  },
  {
   "cell_type": "markdown",
   "metadata": {},
   "source": [
    "Then we do all the QCBC analysis."
   ]
  },
  {
   "cell_type": "code",
   "execution_count": 4,
   "metadata": {},
   "outputs": [],
   "source": [
    "# SeqWalk homopolymer\n",
    "\n",
    "s = !qcbc homopolymer qcbc/sw_multi_analog.txt\n",
    "s = [l + \"\\n\" for l in s]\n",
    "\n",
    "f = open(\"qcbc/SW_multi_homopolymer.txt\", \"w+\")\n",
    "f.writelines(s)\n",
    "f.close()\n",
    "\n",
    "# MultiSeq homopolymer\n",
    "\n",
    "s = !qcbc homopolymer qcbc/multiseq.txt\n",
    "s = [l + \"\\n\" for l in s]\n",
    "\n",
    "f = open(\"qcbc/multi_homopolymer.txt\", \"w+\")\n",
    "f.writelines(s)\n",
    "f.close()"
   ]
  },
  {
   "cell_type": "code",
   "execution_count": 5,
   "metadata": {},
   "outputs": [],
   "source": [
    "df_SW = pd.read_csv(\"qcbc/SW_multi_homopolymer.txt\", sep='\\t')\n",
    "df_M = pd.read_csv(\"qcbc/multi_homopolymer.txt\", sep='\\t')"
   ]
  },
  {
   "cell_type": "code",
   "execution_count": 6,
   "metadata": {},
   "outputs": [],
   "source": [
    "# average of run length * prevalence\n",
    "\n",
    "def weighted_homopolymer_score(df, bc_id):\n",
    "    runs = [int(i) for i in df[\"homopolymer_length\"][bc_id].split(',')]\n",
    "    return np.sum(np.array(runs) * (np.arange(7) + 2))\n",
    "\n",
    "h_scores_SW = []\n",
    "h_scores_M = []\n",
    "for bc_id in range(9):\n",
    "    h_scores_SW.append(weighted_homopolymer_score(df_SW, bc_id))\n",
    "    h_scores_M.append(weighted_homopolymer_score(df_M, bc_id))"
   ]
  },
  {
   "cell_type": "code",
   "execution_count": 7,
   "metadata": {},
   "outputs": [
    {
     "name": "stdout",
     "output_type": "stream",
     "text": [
      "Seqwalk average homopolymer score: 3.333333\n",
      "Multiseq average homopolymer score: 4.111111\n"
     ]
    }
   ],
   "source": [
    "print(\"Seqwalk average homopolymer score: %f\" % (np.mean(h_scores_SW)))\n",
    "\n",
    "print(\"Multiseq average homopolymer score: %f\" % (np.mean(h_scores_M)))"
   ]
  },
  {
   "cell_type": "code",
   "execution_count": 8,
   "metadata": {},
   "outputs": [],
   "source": [
    "# SeqWalk pdist\n",
    "\n",
    "s = !qcbc pdist qcbc/sw_multi_analog.txt\n",
    "s = [l + \"\\n\" for l in s]\n",
    "\n",
    "f = open(\"qcbc/SW_multi_pdist.txt\", \"w+\")\n",
    "f.writelines(s)\n",
    "f.close()\n",
    "\n",
    "# MultiSeq pdist\n",
    "\n",
    "s = !qcbc pdist qcbc/multiseq.txt\n",
    "s = [l + \"\\n\" for l in s]\n",
    "\n",
    "f = open(\"qcbc/multi_pdist.txt\", \"w+\")\n",
    "f.writelines(s)\n",
    "f.close()"
   ]
  },
  {
   "cell_type": "code",
   "execution_count": 9,
   "metadata": {},
   "outputs": [],
   "source": [
    "df_SW = pd.read_csv(\"qcbc/SW_multi_pdist.txt\", sep='\\t', header=None)\n",
    "df_M = pd.read_csv(\"qcbc/multi_pdist.txt\", sep='\\t', header=None)"
   ]
  },
  {
   "cell_type": "code",
   "execution_count": 10,
   "metadata": {},
   "outputs": [
    {
     "name": "stdout",
     "output_type": "stream",
     "text": [
      "Seqwalk mean pairwise distance: 5.777778\n",
      "Multiseq mean pairwise distance: 5.694444\n"
     ]
    }
   ],
   "source": [
    "print(\"Seqwalk mean pairwise distance: %f\" %(np.mean(df_SW[4])))\n",
    "print(\"Multiseq mean pairwise distance: %f\" %(np.mean(df_M[4])))"
   ]
  },
  {
   "cell_type": "code",
   "execution_count": 11,
   "metadata": {},
   "outputs": [],
   "source": [
    "s = !qcbc content qcbc/sw_multi_analog.txt -e\n",
    "s = [l + \"\\n\" for l in s]\n",
    "\n",
    "f = open(\"qcbc/SW_multi_content.txt\", \"w+\")\n",
    "f.writelines(s)\n",
    "f.close()\n",
    "\n",
    "# MultiSeq nt entropy\n",
    "\n",
    "s = !qcbc content qcbc/multiseq.txt -e\n",
    "s = [l + \"\\n\" for l in s]\n",
    "\n",
    "f = open(\"qcbc/multi_content.txt\", \"w+\")\n",
    "f.writelines(s)\n",
    "f.close()"
   ]
  },
  {
   "cell_type": "code",
   "execution_count": 12,
   "metadata": {},
   "outputs": [],
   "source": [
    "df_SW = pd.read_csv(\"qcbc/SW_multi_content.txt\", sep='\\t')\n",
    "df_M = pd.read_csv(\"qcbc/multi_content.txt\", sep='\\t')"
   ]
  },
  {
   "cell_type": "code",
   "execution_count": 13,
   "metadata": {},
   "outputs": [
    {
     "name": "stdout",
     "output_type": "stream",
     "text": [
      "Seqwalk mean GC entropy score: 0.547778\n",
      "Multiseq mean GC entropy score: 0.551111\n"
     ]
    }
   ],
   "source": [
    "print(\"Seqwalk mean GC entropy score: %f\" %(np.mean(df_SW[\"ent\"])))\n",
    "print(\"Multiseq mean GC entropy score: %f\" %(np.mean(df_M[\"ent\"])))"
   ]
  },
  {
   "cell_type": "code",
   "execution_count": 14,
   "metadata": {},
   "outputs": [],
   "source": [
    "n_ambiguous_SW = []\n",
    "for x in range(2, 8):\n",
    "    s = !qcbc ambiguous -l $x qcbc/sw_multi_analog.txt\n",
    "    ambi_bcs = []\n",
    "    for amb in s:\n",
    "        ambi_bcs += amb.split('\\t')[1].split(',')\n",
    "    n_ambiguous_SW.append(len(set(ambi_bcs)))\n",
    "\n",
    "# compute ambiguous for l=2 to l=7\n",
    "# record number of barcodes with ambuities\n",
    "\n",
    "n_ambiguous_M = []\n",
    "for x in range(2, 8):\n",
    "    s = !qcbc ambiguous -l $x qcbc/multiseq.txt\n",
    "    ambi_bcs = []\n",
    "    for amb in s:\n",
    "        ambi_bcs += amb.split('\\t')[1].split(',')\n",
    "    n_ambiguous_M.append(len(set(ambi_bcs)))"
   ]
  },
  {
   "cell_type": "code",
   "execution_count": 15,
   "metadata": {},
   "outputs": [
    {
     "name": "stdout",
     "output_type": "stream",
     "text": [
      "Number of ambiguous SeqWalk barcodes for l=2 to l=7\n"
     ]
    },
    {
     "data": {
      "text/plain": [
       "[9, 0, 0, 0, 0, 0]"
      ]
     },
     "execution_count": 15,
     "metadata": {},
     "output_type": "execute_result"
    }
   ],
   "source": [
    "print(\"Number of ambiguous SeqWalk barcodes for l=2 to l=7\")\n",
    "n_ambiguous_SW"
   ]
  },
  {
   "cell_type": "code",
   "execution_count": 16,
   "metadata": {},
   "outputs": [
    {
     "name": "stdout",
     "output_type": "stream",
     "text": [
      "Number of ambiguous MultiSeq barcodes for l=2 to l=7\n"
     ]
    },
    {
     "data": {
      "text/plain": [
       "[9, 9, 5, 2, 2, 2]"
      ]
     },
     "execution_count": 16,
     "metadata": {},
     "output_type": "execute_result"
    }
   ],
   "source": [
    "print(\"Number of ambiguous MultiSeq barcodes for l=2 to l=7\")\n",
    "n_ambiguous_M"
   ]
  },
  {
   "cell_type": "code",
   "execution_count": null,
   "metadata": {},
   "outputs": [],
   "source": []
  },
  {
   "cell_type": "code",
   "execution_count": null,
   "metadata": {},
   "outputs": [],
   "source": []
  }
 ],
 "metadata": {
  "kernelspec": {
   "display_name": "Python 3 (ipykernel)",
   "language": "python",
   "name": "python3"
  },
  "language_info": {
   "codemirror_mode": {
    "name": "ipython",
    "version": 3
   },
   "file_extension": ".py",
   "mimetype": "text/x-python",
   "name": "python",
   "nbconvert_exporter": "python",
   "pygments_lexer": "ipython3",
   "version": "3.9.5"
  }
 },
 "nbformat": 4,
 "nbformat_minor": 4
}
