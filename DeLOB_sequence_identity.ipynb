{
 "cells": [
  {
   "cell_type": "code",
   "execution_count": 1,
   "id": "f3483d6c",
   "metadata": {},
   "outputs": [],
   "source": [
    "from Bio.Seq import Seq\n",
    "from Bio.SeqRecord import SeqRecord\n",
    "from Bio import SeqIO\n",
    "import numpy as np\n",
    "from seqwalk import design\n",
    "from time import time, sleep\n",
    "import subprocess\n",
    "import pandas as pd\n",
    "import seaborn as sns\n",
    "from tqdm.notebook import tqdm"
   ]
  },
  {
   "cell_type": "code",
   "execution_count": 5,
   "id": "40567e6f",
   "metadata": {},
   "outputs": [
    {
     "name": "stdout",
     "output_type": "stream",
     "text": [
      "BLAST records: 939674\n",
      "Library size: 27935\n",
      "BLAST records w perfect identity: 866459\n",
      "Library size: 27935\n",
      "CPU times: user 6min 57s, sys: 544 ms, total: 6min 57s\n",
      "Wall time: 7min 46s\n"
     ]
    }
   ],
   "source": [
    "%%time\n",
    "\n",
    "# generate random seqs\n",
    "lib = [\"\".join(np.random.choice([\"A\", \"C\", \"G\", \"T\"], size=25)) for _ in range(5*10**5)]\n",
    "\n",
    "# save as FASTA\n",
    "seqs = [SeqRecord(Seq(lib[l]), id=\"seq%d\"%l) for l in range(len(lib))]\n",
    "SeqIO.write(seqs, \"million.fasta\", \"fasta\")\n",
    "\n",
    "t1 = time()\n",
    "\n",
    "cmd= 'blastn -query million.fasta -subject million.fasta -outfmt 6 -out res_million -dust no -word_size 11'\n",
    "cmd = cmd.split()    \n",
    "subprocess.Popen(cmd).wait()\n",
    "\n",
    "df = pd.read_csv(\"res_million\", sep='\\t', header=None)\n",
    "print(\"BLAST records: %d\" %(len(df)))\n",
    "trashbin = []\n",
    "keeper = []\n",
    "for row in df.iterrows():\n",
    "    if row[1][3] < 13 and row[1][3] != 25: \n",
    "        query = row[1][0]\n",
    "        target = row[1][1]\n",
    "        if query not in keeper:\n",
    "            if query not in trashbin:\n",
    "                keeper.append(query)\n",
    "                trashbin.append(target)\n",
    "        else:\n",
    "            trashbin.append(target)\n",
    "            \n",
    "print(\"Library size: %d\" %(len(keeper)))\n",
    "\n",
    "# only perfect identity\n",
    "df = df[df[2] == 100]\n",
    "\n",
    "print(\"BLAST records w perfect identity: %d\" %(len(df)))\n",
    "\n",
    "trashbin = set()\n",
    "keeper = set()\n",
    "for row in df.iterrows():\n",
    "    if row[1][3] < 13 and row[1][3] != 25: \n",
    "        query = row[1][0]\n",
    "        target = row[1][1]\n",
    "        if query not in keeper:\n",
    "            if query not in trashbin:\n",
    "                keeper.add(query)\n",
    "                trashbin.add(target)\n",
    "        else:\n",
    "            trashbin.add(target)\n",
    "\n",
    "print(\"Library size: %d\" %(len(keeper)))"
   ]
  },
  {
   "cell_type": "code",
   "execution_count": null,
   "id": "0058a87f",
   "metadata": {},
   "outputs": [],
   "source": []
  }
 ],
 "metadata": {
  "kernelspec": {
   "display_name": "Python 3 (ipykernel)",
   "language": "python",
   "name": "python3"
  },
  "language_info": {
   "codemirror_mode": {
    "name": "ipython",
    "version": 3
   },
   "file_extension": ".py",
   "mimetype": "text/x-python",
   "name": "python",
   "nbconvert_exporter": "python",
   "pygments_lexer": "ipython3",
   "version": "3.10.12"
  }
 },
 "nbformat": 4,
 "nbformat_minor": 5
}
