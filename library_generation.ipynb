{
 "cells": [
  {
   "cell_type": "markdown",
   "metadata": {},
   "source": [
    "# Generating libraries for analysis of SeqWalk libraries\n",
    "\n",
    "This notebook contains code to generate sequences which are analyzed in \n",
    "\n",
    "- `secondary_struct.ipynb`\n",
    "-  `gc_content.ipynb`\n",
    "- `melting_temp.ipynb`\n"
   ]
  },
  {
   "cell_type": "code",
   "execution_count": 1,
   "metadata": {},
   "outputs": [],
   "source": [
    "using Random\n",
    "alph = [\"A\", \"C\", \"T\", \"G\"];"
   ]
  },
  {
   "cell_type": "code",
   "execution_count": 2,
   "metadata": {},
   "outputs": [
    {
     "data": {
      "text/plain": [
       "intToDNA (generic function with 1 method)"
      ]
     },
     "execution_count": 2,
     "metadata": {},
     "output_type": "execute_result"
    }
   ],
   "source": [
    "\"\"\"\n",
    "    isNecklace(seq)\n",
    "\n",
    "## summary\n",
    "computes if a sequence is a necklace, as defined by Wong 2017. \n",
    "\n",
    "## scaling\n",
    "O(n)\n",
    "\n",
    "## usage notes\n",
    "works for strings, lists, numbers, bools\n",
    "\"\"\"\n",
    "function isNecklace(seq)\n",
    "    \n",
    "    p = 1\n",
    "    \n",
    "    for i in 2:length(seq)\n",
    "        if seq[i-p] < seq[i]\n",
    "            p = i\n",
    "        elseif seq[i-p] > seq[i]\n",
    "            return false\n",
    "        end\n",
    "    end\n",
    "    \n",
    "    if mod(length(seq), p) == 0\n",
    "        return true\n",
    "    else\n",
    "        return false\n",
    "    end\n",
    "    \n",
    "end\n",
    "\n",
    "\n",
    "\"\"\"\n",
    "    simpleShift(n, k)\n",
    "\n",
    "## summary\n",
    "executes simpleShift algorithm presented in Wong 2017.\n",
    "\n",
    "## scaling\n",
    "O(nk)\n",
    "\"\"\"\n",
    "function simpleShift(n, k)\n",
    "    \n",
    "    seq = rand(1:k, n)\n",
    "\n",
    "    while true\n",
    "        push!(seq, f(seq[end-n+1:end], k))\n",
    "        if seq[end-n+1:end] == seq[1:n]\n",
    "            break\n",
    "        end\n",
    "    end\n",
    "    \n",
    "    seq\n",
    "end\n",
    "\n",
    "\"\"\"\n",
    "    f(seq, k)\n",
    "\n",
    "## summary\n",
    "helper function f presented in Wong 2017\n",
    "\n",
    "## scaling\n",
    "O(n)\n",
    "\n",
    "## usage notes\n",
    "requires list of ints\n",
    "\"\"\"\n",
    "function f(seq::Array, k)\n",
    "    p = 1\n",
    "    if seq[1] == k\n",
    "        if sum(seq[2:end]) == length(seq) - 1\n",
    "            return 1\n",
    "        end\n",
    "        for i in 0:k-2\n",
    "            if !isNecklace([seq[2:end] ; k-i])\n",
    "                return k-i\n",
    "            end\n",
    "        end\n",
    "        return 1\n",
    "    elseif isNecklace([seq[2:end] ; mod(seq[1], k) + 1])\n",
    "        return mod(seq[1], k) + 1\n",
    "    else\n",
    "        return seq[1]\n",
    "    end\n",
    "end\n",
    "\n",
    "\"\"\"\n",
    "    partitionCycle(simpleShift(3, 3), 3, 4)\n",
    "\n",
    "## summary\n",
    "split cycle into sequences of length L\n",
    "\n",
    "## scaling\n",
    "O(n/(L-k))\n",
    "\"\"\"\n",
    "function partitionCycle(cycle, k, L)\n",
    "    library = []\n",
    "    for i in 1:L-k+1:length(cycle)-L\n",
    "        seq = []\n",
    "        for j in 0:L-1\n",
    "            push!(seq, cycle[i+j])\n",
    "        end\n",
    "        push!(library, seq)\n",
    "    end\n",
    "    library\n",
    "end\n",
    "\n",
    "function intToDNA(seq)\n",
    "    join([alph[i] for i in seq])\n",
    "end"
   ]
  },
  {
   "cell_type": "code",
   "execution_count": 3,
   "metadata": {},
   "outputs": [
    {
     "name": "stdout",
     "output_type": "stream",
     "text": [
      "  0.252948 seconds (579.21 k allocations: 30.365 MiB)\n",
      "  0.008165 seconds (93.46 k allocations: 5.740 MiB)\n",
      "  0.008467 seconds (92.84 k allocations: 5.720 MiB)\n",
      "  0.166110 seconds (1.52 M allocations: 101.271 MiB, 18.29% gc time)\n",
      "  0.138962 seconds (1.46 M allocations: 96.313 MiB, 13.79% gc time)\n",
      "  0.193387 seconds (1.45 M allocations: 95.666 MiB, 44.65% gc time)\n",
      "  2.286540 seconds (26.70 M allocations: 1.850 GiB, 11.76% gc time)\n",
      "  2.802832 seconds (23.20 M allocations: 1.562 GiB, 31.78% gc time)\n",
      "  2.038027 seconds (22.83 M allocations: 1.538 GiB, 16.04% gc time)\n"
     ]
    }
   ],
   "source": [
    "alphabet_size = 4 # number of allowable bases\n",
    "\n",
    "for SSM_k in [6, 8, 10]\n",
    "    for seq_L in [10, 15, 25]\n",
    "\n",
    "        @time library = partitionCycle(simpleShift(SSM_k, alphabet_size), SSM_k, seq_L)\n",
    "        seqs = intToDNA.(library)\n",
    "\n",
    "\n",
    "        filename = \"SSM_$SSM_k-L_$(seq_L)-a_$(alphabet_size)\" # file to write sequences to\n",
    "\n",
    "        shuffle!(seqs)\n",
    "\n",
    "        open(filename, \"w+\") do f\n",
    "            for seq in seqs\n",
    "                write(f, \"$seq\\n\")\n",
    "            end\n",
    "        end\n",
    "    end\n",
    "end"
   ]
  },
  {
   "cell_type": "code",
   "execution_count": 4,
   "metadata": {},
   "outputs": [
    {
     "name": "stdout",
     "output_type": "stream",
     "text": [
      "  0.001344 seconds (16.66 k allocations: 1.035 MiB)\n",
      "  0.001588 seconds (16.37 k allocations: 1.008 MiB)\n",
      "  0.001193 seconds (16.26 k allocations: 1.004 MiB)\n",
      "  0.011545 seconds (150.04 k allocations: 10.034 MiB)\n",
      "  0.011196 seconds (144.57 k allocations: 9.529 MiB)\n",
      "  0.011533 seconds (143.10 k allocations: 9.462 MiB)\n",
      "  0.149049 seconds (1.49 M allocations: 108.172 MiB, 24.02% gc time)\n",
      "  0.102435 seconds (1.29 M allocations: 90.903 MiB)\n",
      "  0.138121 seconds (1.27 M allocations: 89.608 MiB, 26.07% gc time)\n"
     ]
    }
   ],
   "source": [
    "alphabet_size = 3 # number of allowable bases\n",
    "\n",
    "for SSM_k in [6, 8, 10]\n",
    "    for seq_L in [10, 15, 25]\n",
    "\n",
    "        @time library = partitionCycle(simpleShift(SSM_k, alphabet_size), SSM_k, seq_L)\n",
    "        seqs = intToDNA.(library)\n",
    "\n",
    "\n",
    "        filename = \"SSM_$SSM_k-L_$(seq_L)-a_$(alphabet_size)\" # file to write sequences to\n",
    "\n",
    "        shuffle!(seqs)\n",
    "\n",
    "        open(filename, \"w+\") do f\n",
    "            for seq in seqs\n",
    "                write(f, \"$seq\\n\")\n",
    "            end\n",
    "        end\n",
    "    end\n",
    "end"
   ]
  },
  {
   "cell_type": "code",
   "execution_count": null,
   "metadata": {},
   "outputs": [],
   "source": []
  }
 ],
 "metadata": {
  "kernelspec": {
   "display_name": "Julia 1.5.3",
   "language": "julia",
   "name": "julia-1.5"
  },
  "language_info": {
   "file_extension": ".jl",
   "mimetype": "application/julia",
   "name": "julia",
   "version": "1.5.3"
  }
 },
 "nbformat": 4,
 "nbformat_minor": 4
}
