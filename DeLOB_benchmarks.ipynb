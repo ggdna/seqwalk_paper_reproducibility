{
 "cells": [
  {
   "cell_type": "markdown",
   "id": "55ae67fc",
   "metadata": {},
   "source": [
    "# Benchmarking DeLOB"
   ]
  },
  {
   "cell_type": "code",
   "execution_count": 2,
   "id": "dc64bb89",
   "metadata": {},
   "outputs": [],
   "source": [
    "from Bio.Seq import Seq\n",
    "from Bio.SeqRecord import SeqRecord\n",
    "from Bio import SeqIO\n",
    "import numpy as np\n",
    "from seqwalk import design\n",
    "from time import time, sleep\n",
    "import subprocess\n",
    "import pandas as pd\n",
    "import seaborn as sns\n",
    "from tqdm.notebook import tqdm\n",
    "import matplotlib.pyplot as plt"
   ]
  },
  {
   "cell_type": "code",
   "execution_count": 2,
   "id": "47a0c4e5",
   "metadata": {},
   "outputs": [
    {
     "data": {
      "application/vnd.jupyter.widget-view+json": {
       "model_id": "3d4e43c9907948aeafc017b4f33425e2",
       "version_major": 2,
       "version_minor": 0
      },
      "text/plain": [
       "  0%|          | 0/10 [00:00<?, ?it/s]"
      ]
     },
     "metadata": {},
     "output_type": "display_data"
    }
   ],
   "source": [
    "lib_size=np.logspace(3, 5, 10, dtype=int)\n",
    "\n",
    "d = {\n",
    "    \"Candidate space\" : [],\n",
    "    \"Preprocessing time\" : [],\n",
    "    \"BLAST time\" : [],\n",
    "    \"Number of BLAST records\" : [],\n",
    "    \"Network elimination time\" : [],\n",
    "    \"Total time\" : [],\n",
    "    \"Library size\" : [],\n",
    "}\n",
    "\n",
    "for N in tqdm(lib_size):\n",
    "\n",
    "    t0 = time()\n",
    "    \n",
    "    # generate random seqs\n",
    "    lib = [\"\".join(np.random.choice([\"A\", \"C\", \"G\", \"T\"], size=25)) for _ in range(N)]\n",
    "    \n",
    "    # save as FASTA\n",
    "    seqs = [SeqRecord(Seq(lib[l]), id=\"seq%d\"%l) for l in range(len(lib))]\n",
    "    SeqIO.write(seqs, \"seqs.fasta\", \"fasta\")\n",
    "    \n",
    "    t1 = time()\n",
    "    \n",
    "    cmd= 'blastn -query seqs.fasta -subject seqs.fasta -outfmt 6 -out res -dust no -word_size 11'\n",
    "    cmd = cmd.split()    \n",
    "    subprocess.Popen(cmd).wait()\n",
    "    \n",
    "    df = pd.read_csv(\"res\", sep='\\t', header=None)\n",
    "#     # only perfect identity\n",
    "#     df = df[df[2] == 100]\n",
    "#     # remove identical\n",
    "#     df = df[df[3] != 25]\n",
    "#     # remove high HSP\n",
    "#     df = df[df[3] < 13]\n",
    "    \n",
    "    t2 = time()\n",
    "    \n",
    "    trashbin = set()\n",
    "    keeper = set()\n",
    "    for row in df.iterrows():\n",
    "        if row[1][3] < 13 and row[1][3] != 25: \n",
    "            query = row[1][0]\n",
    "            target = row[1][1]\n",
    "            if query not in keeper:\n",
    "                if query not in trashbin:\n",
    "                    keeper.add(query)\n",
    "                    trashbin.add(target)\n",
    "            else:\n",
    "                trashbin.add(target)\n",
    "\n",
    "    t3 = time()\n",
    "    \n",
    "    d[\"Candidate space\"].append(N)\n",
    "    d[\"Preprocessing time\"].append(t1-t0)\n",
    "    d[\"Number of BLAST records\"].append(len(df))\n",
    "    d[\"BLAST time\"].append(t2-t1)\n",
    "    d[\"Network elimination time\"].append(t3-t2)\n",
    "    d[\"Total time\"].append(t3-t0)\n",
    "    d[\"Library size\"].append(len(keeper))"
   ]
  },
  {
   "cell_type": "code",
   "execution_count": 3,
   "id": "5d111a82",
   "metadata": {},
   "outputs": [
    {
     "data": {
      "text/plain": [
       "<AxesSubplot:xlabel='Total time', ylabel='Library size'>"
      ]
     },
     "execution_count": 3,
     "metadata": {},
     "output_type": "execute_result"
    },
    {
     "data": {
      "image/png": "[encoded data removed]",
      "text/plain": [
       "<Figure size 432x288 with 1 Axes>"
      ]
     },
     "metadata": {
      "needs_background": "light"
     },
     "output_type": "display_data"
    }
   ],
   "source": [
    "res_df = pd.DataFrame(d)\n",
    "\n",
    "sns.scatterplot(res_df,\n",
    "             y=\"Library size\",\n",
    "             x=\"Total time\")"
   ]
  },
  {
   "cell_type": "code",
   "execution_count": 4,
   "id": "5c7ffbd7",
   "metadata": {},
   "outputs": [
    {
     "data": {
      "text/plain": [
       "<AxesSubplot:xlabel='Candidate space', ylabel='Total time'>"
      ]
     },
     "execution_count": 4,
     "metadata": {},
     "output_type": "execute_result"
    },
    {
     "data": {
      "image/png": "[encoded data removed]",
      "text/plain": [
       "<Figure size 432x288 with 1 Axes>"
      ]
     },
     "metadata": {
      "needs_background": "light"
     },
     "output_type": "display_data"
    }
   ],
   "source": [
    "sns.scatterplot(res_df,\n",
    "             x=\"Candidate space\",\n",
    "             y=\"Total time\")"
   ]
  },
  {
   "cell_type": "code",
   "execution_count": 5,
   "id": "7eb108a8",
   "metadata": {},
   "outputs": [],
   "source": [
    "res_df.to_csv(\"DeLOB_benchmarking.csv\")"
   ]
  },
  {
   "cell_type": "code",
   "execution_count": 4,
   "id": "7b634149",
   "metadata": {},
   "outputs": [
    {
     "name": "stdout",
     "output_type": "stream",
     "text": [
      "15.3595552444458\n"
     ]
    }
   ],
   "source": [
    "t0 = time()\n",
    "library = design.max_size(25, 12, alphabet=\"ACGT\", prevented_patterns=[])\n",
    "t1 = time()\n",
    "\n",
    "print(t1-t0)"
   ]
  },
  {
   "cell_type": "code",
   "execution_count": 5,
   "id": "5c0acbc7",
   "metadata": {},
   "outputs": [
    {
     "name": "stdout",
     "output_type": "stream",
     "text": [
      "1198372\n"
     ]
    }
   ],
   "source": [
    "sw_time = t1-t0\n",
    "sw_ls = len(library)\n",
    "print(sw_ls)"
   ]
  },
  {
   "cell_type": "code",
   "execution_count": 8,
   "id": "44c07fa3",
   "metadata": {},
   "outputs": [
    {
     "data": {
      "text/plain": [
       "<matplotlib.collections.PathCollection at 0x7faebb3d2ec0>"
      ]
     },
     "execution_count": 8,
     "metadata": {},
     "output_type": "execute_result"
    },
    {
     "data": {
      "image/png": "[encoded data removed]",
      "text/plain": [
       "<Figure size 432x288 with 1 Axes>"
      ]
     },
     "metadata": {
      "needs_background": "light"
     },
     "output_type": "display_data"
    }
   ],
   "source": [
    "sns.scatterplot(res_df,\n",
    "             y=\"Library size\",\n",
    "             y=\"Total time\")\n",
    "plt.scatter([sw_ls],[sw_time],  marker=\"*\")\n",
    "# plt.yscale('log')"
   ]
  },
  {
   "cell_type": "code",
   "execution_count": null,
   "id": "ef2ecf64",
   "metadata": {},
   "outputs": [],
   "source": []
  },
  {
   "cell_type": "code",
   "execution_count": null,
   "id": "3cb4423a",
   "metadata": {},
   "outputs": [],
   "source": []
  }
 ],
 "metadata": {
  "kernelspec": {
   "display_name": "Python 3 (ipykernel)",
   "language": "python",
   "name": "python3"
  },
  "language_info": {
   "codemirror_mode": {
    "name": "ipython",
    "version": 3
   },
   "file_extension": ".py",
   "mimetype": "text/x-python",
   "name": "python",
   "nbconvert_exporter": "python",
   "pygments_lexer": "ipython3",
   "version": "3.10.12"
  }
 },
 "nbformat": 4,
 "nbformat_minor": 5
}
